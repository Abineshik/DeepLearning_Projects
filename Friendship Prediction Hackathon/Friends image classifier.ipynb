{
 "cells": [
  {
   "cell_type": "code",
   "execution_count": 2,
   "metadata": {},
   "outputs": [],
   "source": [
    "import numpy as np\n",
    "import pandas as pd \n",
    "import os\n",
    "import tensorflow as tf\n",
    "from tensorflow.keras.layers import Dense, Conv2D, MaxPool2D, Flatten, Dropout\n",
    "from tensorflow.keras.models import Sequential, Model\n",
    "from tensorflow.keras.preprocessing.image import ImageDataGenerator\n",
    "from tensorflow.keras.preprocessing import image  \n",
    "import  kerastuner as kt\n",
    "from kerastuner.tuners.randomsearch import RandomSearch\n",
    "import time\n",
    "import IPython\n",
    "from keras.callbacks import Callback, EarlyStopping\n",
    "from tensorflow.keras.applications.vgg16 import VGG16, preprocess_input\n",
    "from tensorflow.keras.applications.xception import Xception"
   ]
  },
  {
   "cell_type": "code",
   "execution_count": null,
   "metadata": {},
   "outputs": [],
   "source": []
  },
  {
   "cell_type": "code",
   "execution_count": null,
   "metadata": {},
   "outputs": [],
   "source": [
    "from tensorflow.python.client import device_lib\n",
    "#print(device_lib.list_local_devices())"
   ]
  },
  {
   "cell_type": "code",
   "execution_count": null,
   "metadata": {},
   "outputs": [],
   "source": [
    "# sess = tf.Session(config=tf.ConfigProto(log_device_placement=True))\n",
    "# sess"
   ]
  },
  {
   "cell_type": "code",
   "execution_count": 3,
   "metadata": {},
   "outputs": [
    {
     "name": "stdout",
     "output_type": "stream",
     "text": [
      "Found 1194 images belonging to 3 classes.\n"
     ]
    }
   ],
   "source": [
    "train_gen = ImageDataGenerator(rescale=1/255,  shear_range = 0.2,\n",
    "                                zoom_range = 0.2, horizontal_flip = True, vertical_flip=True,\n",
    "                                rotation_range=40,\n",
    "    width_shift_range=0.3,\n",
    "    height_shift_range=0.4,\n",
    "                                samplewise_center=True, \n",
    "                                samplewise_std_normalization=True,validation_split=0.25)\n",
    "train_img = train_gen.flow_from_directory(directory='training',\n",
    "                                              target_size=[128,128], subset='training' )"
   ]
  },
  {
   "cell_type": "code",
   "execution_count": null,
   "metadata": {},
   "outputs": [],
   "source": [
    "#train_img.filenames"
   ]
  },
  {
   "cell_type": "code",
   "execution_count": 4,
   "metadata": {},
   "outputs": [
    {
     "name": "stdout",
     "output_type": "stream",
     "text": [
      "Found 397 images belonging to 3 classes.\n"
     ]
    }
   ],
   "source": [
    "#val_gen = ImageDataGenerator(rescale=1/255)\n",
    "val_img = train_gen.flow_from_directory(directory='training', target_size=[128,128], subset='validation')"
   ]
  },
  {
   "cell_type": "code",
   "execution_count": 5,
   "metadata": {},
   "outputs": [
    {
     "name": "stdout",
     "output_type": "stream",
     "text": [
      "Found 314 validated image filenames.\n"
     ]
    }
   ],
   "source": [
    "test_gen = ImageDataGenerator(rescale=1/255)\n",
    "test_df = pd.read_csv('Dataset\\\\test.csv')\n",
    "test_img = test_gen.flow_from_dataframe(dataframe=test_df, directory='Dataset\\\\TestData\\\\test',\n",
    "                                        x_col='Filename', batch_size=16,\n",
    "                                        class_mode=None, target_size=[128,128],\n",
    "                                       shuffle=False, seed=3)"
   ]
  },
  {
   "cell_type": "code",
   "execution_count": null,
   "metadata": {},
   "outputs": [],
   "source": [
    "#test_img.filenames"
   ]
  },
  {
   "cell_type": "code",
   "execution_count": null,
   "metadata": {},
   "outputs": [],
   "source": [
    "test_df.head()"
   ]
  },
  {
   "cell_type": "code",
   "execution_count": null,
   "metadata": {},
   "outputs": [],
   "source": [
    "#test_img.filenames"
   ]
  },
  {
   "cell_type": "code",
   "execution_count": null,
   "metadata": {},
   "outputs": [],
   "source": [
    "def model_builder(hp):\n",
    "    model = Sequential()\n",
    "    model.add(Conv2D(filters=hp.Int(\"Filter_1\", 16, 128, 16), kernel_size=3,activation='relu', input_shape=(128,128,3)))\n",
    "    model.add(MaxPool2D(strides=hp.Choice(\"Max_1\", [1,2])))\n",
    "    model.add(Conv2D(filters=hp.Int(\"Filter_2\", 16, 128, 16), kernel_size=3,activation='relu'))\n",
    "    model.add(MaxPool2D(strides=hp.Choice(\"Max_2\", [1,2])))\n",
    "    model.add(Conv2D(filters=hp.Int(\"Filter_2\", 16, 128, 16), kernel_size=3,activation='relu'))\n",
    "    model.add(MaxPool2D(strides=hp.Choice(\"Max_2\", [1,2])))\n",
    "    model.add(Flatten())\n",
    "    model.add(Dense(units=hp.Int('units_1', 16, 128, 16), activation='relu'))\n",
    "    model.add(Dropout(hp.Choice('drop_unit', values=[0.5,0.7,0.9])))\n",
    "    model.add(Dense(units=hp.Int('units_2', 16, 126, 16), activation='relu'))\n",
    "    model.add(Dense(units=3, activation='sigmoid'))\n",
    "    model.compile(optimizer='adam', loss='categorical_crossentropy', metrics=['accuracy'])\n",
    "    return model"
   ]
  },
  {
   "cell_type": "code",
   "execution_count": null,
   "metadata": {},
   "outputs": [],
   "source": []
  },
  {
   "cell_type": "code",
   "execution_count": null,
   "metadata": {},
   "outputs": [],
   "source": [
    "log_dir = f\"{int(time.time())}\"\n",
    "log_dir=log_dir[4:-1]\n",
    "class ClearOutput(Callback):\n",
    "    def on_train_end(*args, **kwargs):\n",
    "        IPython.display.clear_output(wait=True)\n",
    "    \n",
    "tuned_model = RandomSearch(model_builder, objective='val_loss', max_trials=5,\n",
    "                           directory= os.path.normpath('C:/projj/'+log_dir))\n",
    "tuned_model.search(train_img, epochs=5, validation_data=val_img,  callbacks=[ClearOutput()])\n",
    "best_hps = tuned_model.get_best_hyperparameters()[0]\n",
    "final_model = tuned_model.hypermodel.build(best_hps)\n"
   ]
  },
  {
   "cell_type": "code",
   "execution_count": null,
   "metadata": {},
   "outputs": [],
   "source": [
    "es = EarlyStopping(monitor='val_loss', mode='min', patience=20)\n",
    "final_model.fit(train_img, steps_per_epoch=200, validation_data = val_img, validation_steps=30, epochs = 45, callbacks=[es])"
   ]
  },
  {
   "cell_type": "code",
   "execution_count": null,
   "metadata": {},
   "outputs": [],
   "source": [
    "#tuned_model.results_summary()"
   ]
  },
  {
   "cell_type": "code",
   "execution_count": null,
   "metadata": {
    "scrolled": true
   },
   "outputs": [],
   "source": []
  },
  {
   "cell_type": "code",
   "execution_count": null,
   "metadata": {},
   "outputs": [],
   "source": []
  },
  {
   "cell_type": "code",
   "execution_count": null,
   "metadata": {},
   "outputs": [],
   "source": [
    "model_1 = Sequential()\n",
    "model_1.add(Conv2D(filters=32, kernel_size=3,activation='relu', input_shape=(64,64,3)))\n",
    "model_1.add(MaxPool2D(strides=2))\n",
    "model_1.add(Conv2D(filters=32, kernel_size=3,activation='relu'))\n",
    "model_1.add(MaxPool2D(strides=2))\n",
    "model_1.add(Conv2D(filters=64, kernel_size=3,activation='relu'))\n",
    "model_1.add(MaxPool2D(strides=2)) \n",
    "model_1.add(Flatten())\n",
    "model_1.add(Dense(units=512, activation='relu'))\n",
    "#model_1.add(Dense(units=32, activation='relu'))\n",
    "model_1.add(Dropout(0.6))\n",
    "model_1.add(Dense(units=3, activation='softmax'))\n",
    "model_1.compile(optimizer='adam', loss='categorical_crossentropy', metrics=['accuracy'])\n",
    "es = EarlyStopping(monitor='val_loss', mode='min', patience=30)\n",
    "\n",
    "model_1.fit(train_img, epochs=100, validation_data=val_img , callbacks=[es])"
   ]
  },
  {
   "cell_type": "code",
   "execution_count": null,
   "metadata": {
    "scrolled": false
   },
   "outputs": [],
   "source": []
  },
  {
   "cell_type": "code",
   "execution_count": 6,
   "metadata": {},
   "outputs": [],
   "source": [
    "tran = Xception(include_top = False, weights='imagenet', input_shape=(128,128,3))"
   ]
  },
  {
   "cell_type": "code",
   "execution_count": null,
   "metadata": {},
   "outputs": [],
   "source": [
    "#for layer in vgg.layers:\n",
    "tran.trainable = True"
   ]
  },
  {
   "cell_type": "code",
   "execution_count": 7,
   "metadata": {},
   "outputs": [
    {
     "data": {
      "text/plain": [
       "True"
      ]
     },
     "execution_count": 7,
     "metadata": {},
     "output_type": "execute_result"
    }
   ],
   "source": [
    "tran.trainable"
   ]
  },
  {
   "cell_type": "code",
   "execution_count": null,
   "metadata": {},
   "outputs": [],
   "source": [
    "Flatten()(tran.output)"
   ]
  },
  {
   "cell_type": "code",
   "execution_count": null,
   "metadata": {
    "scrolled": true
   },
   "outputs": [],
   "source": [
    "x= Flatten()(tran.output)\n",
    "x=Dense(256, activation='relu')(x)\n",
    "x = Dense(3, activation='softmax')(x)\n",
    "model = Model(inputs=tran.inputs, outputs=x)\n",
    "model.compile(optimizer=tf.keras.optimizers.Adam(learning_rate= 1e-5), \n",
    "              loss='categorical_crossentropy', metrics=['accuracy'])\n",
    "#es = EarlyStopping(monitor='val_loss', mode='min', patience=25)\n",
    "model.fit(train_img, epochs=20, validation_data=val_img, steps_per_epoch = 40)"
   ]
  },
  {
   "cell_type": "markdown",
   "metadata": {},
   "source": [
    "##### Submission box"
   ]
  },
  {
   "cell_type": "code",
   "execution_count": null,
   "metadata": {},
   "outputs": [],
   "source": [
    "y_pred = model.predict(test_img)\n",
    "y_pred = np.argmax(y_pred, axis=1)\n",
    "submission_df = pd.DataFrame({'Filename': test_df['Filename'],\n",
    "                             'Category': y_pred})\n",
    "submission_df.replace({0:'Adults', 1:'Teenagers', 2:'Toddler'}, inplace= True)"
   ]
  },
  {
   "cell_type": "code",
   "execution_count": null,
   "metadata": {},
   "outputs": [],
   "source": [
    "submission_df.to_csv('submission.csv', index = False)"
   ]
  },
  {
   "cell_type": "code",
   "execution_count": null,
   "metadata": {
    "scrolled": true
   },
   "outputs": [],
   "source": [
    "img = image.load_img('Dataset\\\\Sample Data\\\\000023.jpg', target_size=[64,64])\n",
    "img = image.img_to_array(img)\n",
    "#img = np.expand_dims(img, axis = 0)\n",
    "img = img.reshape(-1, 64, 64, 3)"
   ]
  },
  {
   "cell_type": "code",
   "execution_count": null,
   "metadata": {},
   "outputs": [],
   "source": [
    "result = model_1.predict(img)\n"
   ]
  },
  {
   "cell_type": "code",
   "execution_count": null,
   "metadata": {},
   "outputs": [],
   "source": [
    "result"
   ]
  },
  {
   "cell_type": "code",
   "execution_count": null,
   "metadata": {},
   "outputs": [],
   "source": [
    "result = np.argmax(result, axis=1)\n",
    "result"
   ]
  },
  {
   "cell_type": "code",
   "execution_count": null,
   "metadata": {},
   "outputs": [],
   "source": [
    "val_img.class_indices"
   ]
  },
  {
   "cell_type": "code",
   "execution_count": null,
   "metadata": {},
   "outputs": [],
   "source": [
    "val_img.index_generator."
   ]
  },
  {
   "cell_type": "code",
   "execution_count": null,
   "metadata": {},
   "outputs": [],
   "source": [
    "from sklearn.metrics import accuracy_score\n",
    "accuracy_score(val_img.classes, result)"
   ]
  },
  {
   "cell_type": "code",
   "execution_count": null,
   "metadata": {},
   "outputs": [],
   "source": [
    "y_pred = final_model.predict(test_img)"
   ]
  },
  {
   "cell_type": "code",
   "execution_count": null,
   "metadata": {},
   "outputs": [],
   "source": [
    "y_pred"
   ]
  }
 ],
 "metadata": {
  "kernelspec": {
   "display_name": "Python 3",
   "language": "python",
   "name": "python3"
  },
  "language_info": {
   "codemirror_mode": {
    "name": "ipython",
    "version": 3
   },
   "file_extension": ".py",
   "mimetype": "text/x-python",
   "name": "python",
   "nbconvert_exporter": "python",
   "pygments_lexer": "ipython3",
   "version": "3.7.4"
  }
 },
 "nbformat": 4,
 "nbformat_minor": 2
}
